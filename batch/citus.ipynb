{
 "cells": [
  {
   "cell_type": "code",
   "execution_count": 2,
   "id": "initial_id",
   "metadata": {
    "collapsed": true,
    "ExecuteTime": {
     "end_time": "2024-01-03T15:22:17.656558848Z",
     "start_time": "2024-01-03T15:22:14.509409147Z"
    }
   },
   "outputs": [
    {
     "name": "stderr",
     "output_type": "stream",
     "text": [
      "24/01/03 16:22:16 WARN Utils: Your hostname, main-machine resolves to a loopback address: 127.0.1.1; using 91.187.137.132 instead (on interface wlp3s0)\n",
      "24/01/03 16:22:16 WARN Utils: Set SPARK_LOCAL_IP if you need to bind to another address\n",
      "24/01/03 16:22:16 WARN NativeCodeLoader: Unable to load native-hadoop library for your platform... using builtin-java classes where applicable\n",
      "Setting default log level to \"WARN\".\n",
      "To adjust logging level use sc.setLogLevel(newLevel). For SparkR, use setLogLevel(newLevel).\n",
      "24/01/03 16:22:17 WARN Utils: Service 'SparkUI' could not bind on port 4040. Attempting port 4041.\n",
      "24/01/03 16:22:17 WARN Utils: Service 'SparkUI' could not bind on port 4041. Attempting port 4042.\n",
      "24/01/03 16:22:17 WARN Utils: Service 'SparkUI' could not bind on port 4042. Attempting port 4043.\n"
     ]
    }
   ],
   "source": [
    "from pyspark import SparkConf\n",
    "from pyspark.sql import SparkSession\n",
    "from pyspark.sql.functions import col, expr, when,monotonically_increasing_id\n",
    "\n",
    "conf = SparkConf() \\\n",
    "    .setAppName(\"batch-preprocessing\") \\\n",
    "    .set(\"spark.jars\", \"./libs/postgresql-42.7.1.jar\") \\\n",
    "    .setMaster(\"local\")\n",
    "\n",
    "spark = SparkSession.builder \\\n",
    "    .config(conf=conf) \\\n",
    "    .getOrCreate()\n",
    "\n",
    "# SB Config\n",
    "jdbc_url = \"jdbc:postgresql://localhost:5000/running-analytics\"\n",
    "pg_properties = {\n",
    "    \"user\": \"postgres\",\n",
    "    \"password\": \"postgres\",\n",
    "    \"driver\": \"org.postgresql.Driver\"\n",
    "}\n",
    "\n"
   ]
  },
  {
   "cell_type": "code",
   "execution_count": 3,
   "outputs": [],
   "source": [
    "# Loading dataset and initial dataframe preparation\n",
    "df = spark.read.csv(\"../datasets/batch_sample.csv\", header=True, inferSchema=True)\n",
    "df = df.select([col(c).alias(c.replace(\" \", \"_\")) for c in df.columns])\n",
    "df = df.select([col(c).alias(c.lower()) for c in df.columns])\n",
    "\n",
    "df = df.withColumn(\"athlete_age\", col(\"year_of_event\").cast(\"int\") - col(\"athlete_year_of_birth\").cast(\"int\"))\n",
    "df = df.drop(\"athlete_age_category\")\n",
    "df = df.withColumn(\"athlete_year_of_birth\", col(\"athlete_year_of_birth\").cast(\"int\"))\n"
   ],
   "metadata": {
    "collapsed": false,
    "ExecuteTime": {
     "end_time": "2024-01-03T15:22:20.970800255Z",
     "start_time": "2024-01-03T15:22:17.658214611Z"
    }
   },
   "id": "d4bfc4381907fb08"
  },
  {
   "cell_type": "code",
   "execution_count": 4,
   "outputs": [],
   "source": [
    "# Separating races to types and processing time  constrained df\n",
    "marathon_type_filter = (col(\"event_distance/length\").contains(\"d\") |\n",
    "                        col(\"event_distance/length\").contains(\"h\"))\n",
    "# Create two separate DataFrames based on the condition\n",
    "time_constrained_df = df.filter(marathon_type_filter)\n",
    "distance_constrained_df = df.filter(~marathon_type_filter)\n",
    "\n",
    "# Time based marathons processing\n",
    "time_constrained_df = time_constrained_df.withColumnRenamed(\"event_distance/length\", \"time_limit\")\n",
    "time_constrained_df = time_constrained_df.withColumnRenamed(\"athlete_performance\", \"distance_crossed\")\n",
    "\n",
    "# Normalize time to hours\n",
    "days_expr = \"(CASE WHEN time_limit LIKE '%d%' THEN CAST(regexp_extract(time_limit, '([0-9]+)', 1) AS INT) ELSE 0 END) * 24\"\n",
    "hours_expr = \"(CASE WHEN time_limit LIKE '%h%' THEN CAST(regexp_extract(time_limit, '([0-9]+)', 1) AS INT) ELSE 0 END)\"\n",
    "\n",
    "time_constrained_df = time_constrained_df.withColumn(\"time_limit_h\", expr(f\"{days_expr} + {hours_expr}\"))\n",
    "time_constrained_df = time_constrained_df.drop(\"time_limit\")\n",
    "\n",
    "# Normalize crossed distance to km\n",
    "distance_expr = \"\"\"\n",
    "                  ROUND(\n",
    "                  CASE \n",
    "                  WHEN distance_crossed LIKE '%km%' THEN CAST(regexp_extract(distance_crossed, '([0-9]+(.[0-9]+)?)', 1) AS FLOAT) \n",
    "                  WHEN distance_crossed LIKE '%mi%' THEN CAST(regexp_extract(distance_crossed, '([0-9]+(.[0-9]+)?)', 1) AS FLOAT) *1.609344 \n",
    "                  ELSE 0 \n",
    "                  END, 4)\n",
    "              \"\"\"\n",
    "\n",
    "time_constrained_df = time_constrained_df.withColumn(\"distance_crossed_km\", expr(f\"{distance_expr}\"))\n",
    "time_constrained_df = time_constrained_df.drop(\"distance_crossed\")\n",
    "\n",
    "\n",
    "time_constrained_df = time_constrained_df.withColumn(\n",
    "    \"athlete_average_speed_kmph\",\n",
    "    when(col(\"athlete_average_speed\").cast(\"double\") > 50, col(\"athlete_average_speed\").cast(\"double\") / 1000).\n",
    "    otherwise(col(\"athlete_average_speed\").cast(\"double\"))\n",
    ")\n",
    "time_constrained_df = time_constrained_df.drop(\"athlete_average_speed\")\n",
    "\n",
    "# Add an artificial key column\n",
    "time_constrained_df = time_constrained_df.withColumn(\"id\", monotonically_increasing_id())"
   ],
   "metadata": {
    "collapsed": false,
    "ExecuteTime": {
     "end_time": "2024-01-03T15:22:21.305150124Z",
     "start_time": "2024-01-03T15:22:20.974272080Z"
    }
   },
   "id": "db9effd1ef82cc7e"
  },
  {
   "cell_type": "code",
   "execution_count": 5,
   "outputs": [],
   "source": [
    "# Writing time_constrained to db\n",
    "time_constrained_df.write.jdbc(jdbc_url, \"public.running_time_constrained\", mode=\"overwrite\", properties=pg_properties)"
   ],
   "metadata": {
    "collapsed": false,
    "ExecuteTime": {
     "end_time": "2024-01-03T15:22:22.302467465Z",
     "start_time": "2024-01-03T15:22:21.305479238Z"
    }
   },
   "id": "552ae3d363758172"
  },
  {
   "cell_type": "code",
   "execution_count": 6,
   "outputs": [
    {
     "name": "stdout",
     "output_type": "stream",
     "text": [
      "root\n",
      " |-- year_of_event: integer (nullable = true)\n",
      " |-- event_dates: string (nullable = true)\n",
      " |-- event_name: string (nullable = true)\n",
      " |-- event_number_of_finishers: integer (nullable = true)\n",
      " |-- time_spent: string (nullable = true)\n",
      " |-- athlete_club: string (nullable = true)\n",
      " |-- athlete_country: string (nullable = true)\n",
      " |-- athlete_year_of_birth: integer (nullable = true)\n",
      " |-- athlete_gender: string (nullable = true)\n",
      " |-- athlete_id: integer (nullable = true)\n",
      " |-- athlete_age: integer (nullable = true)\n",
      " |-- distance_km: double (nullable = true)\n",
      " |-- time_spent_s: integer (nullable = true)\n",
      " |-- athlete_average_speed_kmph: double (nullable = true)\n",
      " |-- id: long (nullable = false)\n"
     ]
    }
   ],
   "source": [
    "distance_constrained_df = distance_constrained_df.withColumnRenamed(\"event_distance/length\", \"distance\")\n",
    "distance_constrained_df = distance_constrained_df.withColumnRenamed(\"athlete_performance\", \"time_spent\")\n",
    "\n",
    "distance_expr = \"\"\"\n",
    "                  ROUND(\n",
    "                  CASE \n",
    "                  WHEN distance LIKE '%km%' THEN CAST(regexp_extract(distance, '([0-9]+(.[0-9]+)?)', 1) AS FLOAT) \n",
    "                  WHEN distance LIKE '%mi%' THEN CAST(regexp_extract(distance, '([0-9]+(.[0-9]+)?)', 1) AS FLOAT) *1.609344 \n",
    "                  ELSE 0 \n",
    "                  END, 4)\n",
    "              \"\"\"\n",
    "\n",
    "\n",
    "distance_constrained_df = distance_constrained_df.withColumn(\"distance_km\", expr(f\"{distance_expr}\"))\n",
    "distance_constrained_df = distance_constrained_df.drop(\"distance\")\n",
    "\n",
    "# Normalizing time to seconds for easier manipulation later\n",
    "# Extract components\n",
    "days_expr = \"CASE WHEN time_spent LIKE '%d%' THEN CAST(regexp_extract(time_spent, '([0-9]+)d', 1) AS INT) ELSE 0 END\"\n",
    "hours_expr = \"CAST(regexp_extract(time_spent, '([0-9]+):([0-9]{2}):([0-9]{2})', 1) AS INT)\"\n",
    "minutes_expr = \"CAST(regexp_extract(time_spent, '([0-9]+):([0-9]{2}):([0-9]{2})', 2) AS INT)\"\n",
    "seconds_expr = \"CAST(regexp_extract(time_spent, '([0-9]+):([0-9]{2}):([0-9]{2})', 3) AS INT)\"\n",
    "\n",
    "# Convert to seconds and sum up\n",
    "total_seconds_expr = f\"({days_expr} * 24 * 60 * 60) + ({hours_expr} * 60 * 60) + ({minutes_expr} * 60) + {seconds_expr}\"\n",
    "\n",
    "# Add a new column 'total_duration_seconds'\n",
    "distance_constrained_df = distance_constrained_df.withColumn(\"time_spent_s\", expr(total_seconds_expr))\n",
    "\n",
    "\n",
    "# Normalize average speed to km/h\n",
    "distance_constrained_df = distance_constrained_df.withColumn(\n",
    "    \"athlete_average_speed_kmph\",\n",
    "     when(col(\"athlete_average_speed\").cast(\"double\") > 50, col(\"athlete_average_speed\").cast(\"double\") / 1000).\n",
    "     otherwise(col(\"athlete_average_speed\").cast(\"double\"))\n",
    ")\n",
    "distance_constrained_df = distance_constrained_df.drop(\"athlete_average_speed\")\n",
    "\n",
    "# Add an artificial key column\n",
    "distance_constrained_df = distance_constrained_df.withColumn(\"id\", monotonically_increasing_id())\n",
    "distance_constrained_df.printSchema()"
   ],
   "metadata": {
    "collapsed": false,
    "ExecuteTime": {
     "end_time": "2024-01-03T15:22:22.417499945Z",
     "start_time": "2024-01-03T15:22:22.306293970Z"
    }
   },
   "id": "f6780a2bbfa81511"
  },
  {
   "cell_type": "code",
   "execution_count": 7,
   "outputs": [],
   "source": [
    "# Writing distance_constrained to db\n",
    "distance_constrained_df.write.jdbc(jdbc_url, \"public.running_distance_constrained\", mode=\"overwrite\", properties=pg_properties)"
   ],
   "metadata": {
    "collapsed": false,
    "ExecuteTime": {
     "end_time": "2024-01-03T15:22:23.045315789Z",
     "start_time": "2024-01-03T15:22:22.414388382Z"
    }
   },
   "id": "97ac294273556ee2"
  }
 ],
 "metadata": {
  "kernelspec": {
   "display_name": "Python 3",
   "language": "python",
   "name": "python3"
  },
  "language_info": {
   "codemirror_mode": {
    "name": "ipython",
    "version": 2
   },
   "file_extension": ".py",
   "mimetype": "text/x-python",
   "name": "python",
   "nbconvert_exporter": "python",
   "pygments_lexer": "ipython2",
   "version": "2.7.6"
  }
 },
 "nbformat": 4,
 "nbformat_minor": 5
}
