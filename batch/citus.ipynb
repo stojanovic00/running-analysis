{
 "cells": [
  {
   "cell_type": "code",
   "execution_count": 5,
   "id": "initial_id",
   "metadata": {
    "collapsed": true,
    "ExecuteTime": {
     "end_time": "2023-12-30T12:25:38.985618535Z",
     "start_time": "2023-12-30T12:25:38.941859060Z"
    }
   },
   "outputs": [],
   "source": [
    "from pyspark import SparkConf\n",
    "from pyspark.sql import SparkSession\n",
    "from pyspark.sql.functions import col\n",
    "\n",
    "conf = SparkConf() \\\n",
    "    .setAppName(\"batch-preprocessing-citus\") \\\n",
    "    .set(\"spark.jars\", \"postgresql-42.7.1.jar\") \\\n",
    "    .setMaster(\"local\")\n",
    "\n",
    "spark = SparkSession.builder \\\n",
    "    .config(conf=conf) \\\n",
    "    .getOrCreate()\n"
   ]
  },
  {
   "cell_type": "code",
   "execution_count": 6,
   "outputs": [
    {
     "name": "stdout",
     "output_type": "stream",
     "text": [
      "+--------------------+----------+\n",
      "|          Event_name|Athlete_ID|\n",
      "+--------------------+----------+\n",
      "| Selva Costera (CHI)|         0|\n",
      "| Selva Costera (CHI)|         1|\n",
      "|Yankee Springs 50...|        55|\n",
      "|Yankee Springs 50...|        56|\n",
      "|Centenary Lakes 6...|   1065546|\n",
      "|Centenary Lakes 6...|   1046325|\n",
      "|Sri Chinmoy Ultra...|   1615990|\n",
      "|Sri Chinmoy Ultra...|   1047570|\n",
      "|Millicent Six Day...|   1046124|\n",
      "|Millicent Six Day...|   1046122|\n",
      "+--------------------+----------+\n"
     ]
    }
   ],
   "source": [
    "df = spark.read.csv(\"../datasets/batch_sample.csv\", header=True, inferSchema=True)\n",
    "df = df.select([col(c).alias(c.replace(\" \", \"_\")) for c in df.columns])\n",
    "reduced_df = df.select(\"Event_name\", \"Athlete_ID\")\n",
    "reduced_df.show()\n"
   ],
   "metadata": {
    "collapsed": false,
    "ExecuteTime": {
     "end_time": "2023-12-30T12:25:40.645189937Z",
     "start_time": "2023-12-30T12:25:40.221840940Z"
    }
   },
   "id": "d4bfc4381907fb08"
  },
  {
   "cell_type": "code",
   "execution_count": 7,
   "outputs": [],
   "source": [
    "jdbc_url = \"jdbc:postgresql://localhost:5000/postgres\"\n",
    "properties = {\n",
    "    \"user\": \"postgres\",\n",
    "    \"password\": \"postgres\",\n",
    "    \"driver\": \"org.postgresql.Driver\"\n",
    "}\n",
    "reduced_df.write.jdbc(jdbc_url, \"public.runners_reduced\", mode=\"overwrite\", properties=properties)"
   ],
   "metadata": {
    "collapsed": false,
    "ExecuteTime": {
     "end_time": "2023-12-30T12:25:42.359280178Z",
     "start_time": "2023-12-30T12:25:42.186049552Z"
    }
   },
   "id": "552ae3d363758172"
  }
 ],
 "metadata": {
  "kernelspec": {
   "display_name": "Python 3",
   "language": "python",
   "name": "python3"
  },
  "language_info": {
   "codemirror_mode": {
    "name": "ipython",
    "version": 2
   },
   "file_extension": ".py",
   "mimetype": "text/x-python",
   "name": "python",
   "nbconvert_exporter": "python",
   "pygments_lexer": "ipython2",
   "version": "2.7.6"
  }
 },
 "nbformat": 4,
 "nbformat_minor": 5
}
