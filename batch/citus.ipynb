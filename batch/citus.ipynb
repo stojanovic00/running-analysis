{
 "cells": [
  {
   "cell_type": "code",
   "execution_count": 1,
   "id": "initial_id",
   "metadata": {
    "collapsed": true,
    "ExecuteTime": {
     "end_time": "2023-12-30T12:11:10.927689040Z",
     "start_time": "2023-12-30T12:11:07.932868292Z"
    }
   },
   "outputs": [
    {
     "name": "stderr",
     "output_type": "stream",
     "text": [
      "23/12/30 13:11:09 WARN Utils: Your hostname, main-machine resolves to a loopback address: 127.0.1.1; using 147.91.163.186 instead (on interface wlp3s0)\n",
      "23/12/30 13:11:09 WARN Utils: Set SPARK_LOCAL_IP if you need to bind to another address\n",
      "23/12/30 13:11:09 WARN NativeCodeLoader: Unable to load native-hadoop library for your platform... using builtin-java classes where applicable\n",
      "Setting default log level to \"WARN\".\n",
      "To adjust logging level use sc.setLogLevel(newLevel). For SparkR, use setLogLevel(newLevel).\n",
      "23/12/30 13:11:10 WARN Utils: Service 'SparkUI' could not bind on port 4040. Attempting port 4041.\n"
     ]
    }
   ],
   "source": [
    "from pyspark import SparkConf\n",
    "from pyspark.sql import SparkSession\n",
    "from pyspark.sql.functions import col\n",
    "\n",
    "conf = SparkConf() \\\n",
    "    .setAppName(\"batch-preprocessing-citus\") \\\n",
    "    .set(\"spark.jars\", \"postgresql-42.7.1.jar\") \\\n",
    "    .setMaster(\"local\")\n",
    "\n",
    "spark = SparkSession.builder \\\n",
    "    .config(conf=conf) \\\n",
    "    .getOrCreate()\n"
   ]
  },
  {
   "cell_type": "code",
   "execution_count": 2,
   "outputs": [
    {
     "name": "stdout",
     "output_type": "stream",
     "text": [
      "+--------------------+----------+\n",
      "|          Event_name|Athlete_ID|\n",
      "+--------------------+----------+\n",
      "| Selva Costera (CHI)|         0|\n",
      "| Selva Costera (CHI)|         1|\n",
      "|Yankee Springs 50...|        55|\n",
      "|Yankee Springs 50...|        56|\n",
      "|Centenary Lakes 6...|   1065546|\n",
      "|Centenary Lakes 6...|   1046325|\n",
      "|Sri Chinmoy Ultra...|   1615990|\n",
      "|Sri Chinmoy Ultra...|   1047570|\n",
      "|Millicent Six Day...|   1046124|\n",
      "|Millicent Six Day...|   1046122|\n",
      "+--------------------+----------+\n"
     ]
    }
   ],
   "source": [
    "df = spark.read.csv(\"../datasets/batch_sample.csv\", header=True, inferSchema=True)\n",
    "df = df.select([col(c).alias(c.replace(\" \", \"_\")) for c in df.columns])\n",
    "reduced_df = df.select(\"Event_name\", \"Athlete_ID\")\n",
    "reduced_df.show()\n"
   ],
   "metadata": {
    "collapsed": false,
    "ExecuteTime": {
     "end_time": "2023-12-30T12:11:17.106645908Z",
     "start_time": "2023-12-30T12:11:13.199230240Z"
    }
   },
   "id": "d4bfc4381907fb08"
  },
  {
   "cell_type": "code",
   "execution_count": 3,
   "outputs": [],
   "source": [
    "jdbc_url = \"jdbc:postgresql://localhost:5000/postgres\"\n",
    "properties = {\n",
    "    \"user\": \"postgres\",\n",
    "    \"password\": \"postgres\",\n",
    "    \"driver\": \"org.postgresql.Driver\"\n",
    "}\n",
    "reduced_df.write.jdbc(jdbc_url, \"public.runners_reduced\", mode=\"overwrite\", properties=properties)"
   ],
   "metadata": {
    "collapsed": false,
    "ExecuteTime": {
     "end_time": "2023-12-30T12:11:20.443726968Z",
     "start_time": "2023-12-30T12:11:19.851636799Z"
    }
   },
   "id": "552ae3d363758172"
  }
 ],
 "metadata": {
  "kernelspec": {
   "display_name": "Python 3",
   "language": "python",
   "name": "python3"
  },
  "language_info": {
   "codemirror_mode": {
    "name": "ipython",
    "version": 2
   },
   "file_extension": ".py",
   "mimetype": "text/x-python",
   "name": "python",
   "nbconvert_exporter": "python",
   "pygments_lexer": "ipython2",
   "version": "2.7.6"
  }
 },
 "nbformat": 4,
 "nbformat_minor": 5
}
